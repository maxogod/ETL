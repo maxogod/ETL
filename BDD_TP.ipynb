{
  "nbformat": 4,
  "nbformat_minor": 0,
  "metadata": {
    "colab": {
      "provenance": [],
      "toc_visible": true,
      "include_colab_link": true
    },
    "kernelspec": {
      "name": "python3",
      "display_name": "Python 3"
    },
    "language_info": {
      "name": "python"
    }
  },
  "cells": [
    {
      "cell_type": "markdown",
      "metadata": {
        "id": "view-in-github",
        "colab_type": "text"
      },
      "source": [
        "<a href=\"https://colab.research.google.com/github/maxogod/ETL/blob/main/BDD_TP.ipynb\" target=\"_parent\"><img src=\"https://colab.research.google.com/assets/colab-badge.svg\" alt=\"Open In Colab\"/></a>"
      ]
    },
    {
      "cell_type": "markdown",
      "source": [
        "# <center> Base de Datos ~ Merlino </center>\n",
        "\n",
        "## <center> Trabajo Practico: ETL </center>\n",
        "\n",
        "## Integrantes:\n",
        "\n",
        "* Maximo Damian Utrera - 109651 - mutrera@fi.uba.ar\n",
        "* Agustín Barbalase - 109071 - abarbalase@fi.uba.ar\n",
        "* Santiago Sevitz - 107520 - ssevitz@fi.uba.ar\n",
        "* Nicolas Ramiro Sanchez - 98792 - nrsanchez@fi.uba.ar\n",
        "* Jimmy Guertin - 2132273 (Intercambio) - jimmy.guertin@student-cs.fr\n",
        "* Jonatan Enrique Gomez Godoy - 91629 - jegomezg@fi.uba.ar"
      ],
      "metadata": {
        "id": "kJy0gtJCwBnG"
      }
    },
    {
      "cell_type": "markdown",
      "source": [
        "## Imports"
      ],
      "metadata": {
        "id": "SCDSKfkYQ_V-"
      }
    },
    {
      "cell_type": "code",
      "source": [
        "import pandas as pd\n",
        "import matplotlib.pyplot as plt\n",
        "import seaborn as sns\n",
        "from scipy.stats import zscore\n",
        "import sqlite3\n",
        "\n",
        "import warnings\n",
        "warnings.filterwarnings(\"ignore\")"
      ],
      "metadata": {
        "id": "3KWkU997ROPw"
      },
      "execution_count": 204,
      "outputs": []
    },
    {
      "cell_type": "markdown",
      "source": [
        "## Importacion de dataset"
      ],
      "metadata": {
        "id": "rCV7XvvzyQcv"
      }
    },
    {
      "cell_type": "markdown",
      "source": [
        "### Google drive"
      ],
      "metadata": {
        "id": "xrHnpEOGyUkw"
      }
    },
    {
      "cell_type": "code",
      "source": [
        "from google.colab import drive\n",
        "drive.mount('/content/drive')\n",
        "root_path = \"/content/drive/MyDrive/BDD-TP/\""
      ],
      "metadata": {
        "id": "d4XfLepryWJf",
        "colab": {
          "base_uri": "https://localhost:8080/"
        },
        "outputId": "fc5a8d44-ee4a-4fea-d84e-f2e4cbf5ad85"
      },
      "execution_count": 205,
      "outputs": [
        {
          "output_type": "stream",
          "name": "stdout",
          "text": [
            "Drive already mounted at /content/drive; to attempt to forcibly remount, call drive.mount(\"/content/drive\", force_remount=True).\n"
          ]
        }
      ]
    },
    {
      "cell_type": "markdown",
      "source": [
        "### Local\n",
        "\n",
        "Si se trabaja en local, comentar la celda de arriba y descomentar la de abajo."
      ],
      "metadata": {
        "id": "EQXJuJC6ykWZ"
      }
    },
    {
      "cell_type": "code",
      "source": [
        "# root_path = './'"
      ],
      "metadata": {
        "id": "GlW6_ekPyrrp"
      },
      "execution_count": 206,
      "outputs": []
    },
    {
      "cell_type": "code",
      "source": [
        "file_path = root_path + 'Dataset/real_estate.csv'\n",
        "df = pd.read_csv(file_path)"
      ],
      "metadata": {
        "id": "IK2dI23EWzxC"
      },
      "execution_count": 207,
      "outputs": []
    },
    {
      "cell_type": "markdown",
      "source": [
        "## Exploracion inicial"
      ],
      "metadata": {
        "id": "HDoZAP880oIs"
      }
    },
    {
      "cell_type": "markdown",
      "source": [
        "Se observa la forma de los datos a trabajar"
      ],
      "metadata": {
        "id": "q6nQLhK3iDfP"
      }
    },
    {
      "cell_type": "code",
      "source": [
        "df.shape"
      ],
      "metadata": {
        "colab": {
          "base_uri": "https://localhost:8080/"
        },
        "id": "_0_quvSbapI0",
        "outputId": "5ba9cc45-79de-4c9f-bcda-b7d38a174871"
      },
      "execution_count": 208,
      "outputs": [
        {
          "output_type": "execute_result",
          "data": {
            "text/plain": [
              "(1054159, 11)"
            ]
          },
          "metadata": {},
          "execution_count": 208
        }
      ]
    },
    {
      "cell_type": "markdown",
      "source": [
        "Ahora se ven que columnas tenemos en el dataset"
      ],
      "metadata": {
        "id": "CRYbI1n6iJV9"
      }
    },
    {
      "cell_type": "code",
      "source": [
        "df.dtypes"
      ],
      "metadata": {
        "colab": {
          "base_uri": "https://localhost:8080/"
        },
        "id": "XjuOQFJHgNR6",
        "outputId": "1753a9df-de60-4811-bfe9-7c4b8a234f42"
      },
      "execution_count": 209,
      "outputs": [
        {
          "output_type": "execute_result",
          "data": {
            "text/plain": [
              "Date Recorded        object\n",
              "List Year             int64\n",
              "Town                 object\n",
              "Address              object\n",
              "Assessed Value      float64\n",
              "Sale Amount         float64\n",
              "Sales Ratio         float64\n",
              "Property Type        object\n",
              "Residential Type     object\n",
              "Longitude           float64\n",
              "Latitude            float64\n",
              "dtype: object"
            ]
          },
          "metadata": {},
          "execution_count": 209
        }
      ]
    },
    {
      "cell_type": "markdown",
      "source": [
        "Visualizacion rapida de las primeras lineas"
      ],
      "metadata": {
        "id": "vjAvdaYsiRAI"
      }
    },
    {
      "cell_type": "code",
      "source": [
        "df.head()"
      ],
      "metadata": {
        "colab": {
          "base_uri": "https://localhost:8080/",
          "height": 258
        },
        "id": "nJG2hSv6XDzQ",
        "outputId": "5f99fa8c-69ed-4ad4-9b51-854115207aa3"
      },
      "execution_count": 210,
      "outputs": [
        {
          "output_type": "execute_result",
          "data": {
            "text/plain": [
              "  Date Recorded  List Year     Town          Address  Assessed Value  \\\n",
              "0    2021-04-14       2020  Ansonia    323 BEAVER ST        133000.0   \n",
              "1    2021-05-26       2020  Ansonia   152 JACKSON ST        110500.0   \n",
              "2    2021-09-13       2020  Ansonia  230 WAKELEE AVE        150500.0   \n",
              "3    2020-12-14       2020  Ansonia      57 PLATT ST        127400.0   \n",
              "4    2021-09-07       2020     Avon     245 NEW ROAD        217640.0   \n",
              "\n",
              "   Sale Amount  Sales Ratio Property Type Residential Type  Longitude  \\\n",
              "0     248400.0       0.5354   Residential    Single Family  -73.06822   \n",
              "1     239900.0       0.4606   Residential     Three Family        NaN   \n",
              "2     325000.0       0.4630    Commercial              NaN        NaN   \n",
              "3     202500.0       0.6291   Residential       Two Family        NaN   \n",
              "4     400000.0       0.5441   Residential    Single Family        NaN   \n",
              "\n",
              "   Latitude  \n",
              "0  41.35014  \n",
              "1       NaN  \n",
              "2       NaN  \n",
              "3       NaN  \n",
              "4       NaN  "
            ],
            "text/html": [
              "\n",
              "  <div id=\"df-f9c7e6b2-3e85-432f-ad01-bf7fcd90bd12\" class=\"colab-df-container\">\n",
              "    <div>\n",
              "<style scoped>\n",
              "    .dataframe tbody tr th:only-of-type {\n",
              "        vertical-align: middle;\n",
              "    }\n",
              "\n",
              "    .dataframe tbody tr th {\n",
              "        vertical-align: top;\n",
              "    }\n",
              "\n",
              "    .dataframe thead th {\n",
              "        text-align: right;\n",
              "    }\n",
              "</style>\n",
              "<table border=\"1\" class=\"dataframe\">\n",
              "  <thead>\n",
              "    <tr style=\"text-align: right;\">\n",
              "      <th></th>\n",
              "      <th>Date Recorded</th>\n",
              "      <th>List Year</th>\n",
              "      <th>Town</th>\n",
              "      <th>Address</th>\n",
              "      <th>Assessed Value</th>\n",
              "      <th>Sale Amount</th>\n",
              "      <th>Sales Ratio</th>\n",
              "      <th>Property Type</th>\n",
              "      <th>Residential Type</th>\n",
              "      <th>Longitude</th>\n",
              "      <th>Latitude</th>\n",
              "    </tr>\n",
              "  </thead>\n",
              "  <tbody>\n",
              "    <tr>\n",
              "      <th>0</th>\n",
              "      <td>2021-04-14</td>\n",
              "      <td>2020</td>\n",
              "      <td>Ansonia</td>\n",
              "      <td>323 BEAVER ST</td>\n",
              "      <td>133000.0</td>\n",
              "      <td>248400.0</td>\n",
              "      <td>0.5354</td>\n",
              "      <td>Residential</td>\n",
              "      <td>Single Family</td>\n",
              "      <td>-73.06822</td>\n",
              "      <td>41.35014</td>\n",
              "    </tr>\n",
              "    <tr>\n",
              "      <th>1</th>\n",
              "      <td>2021-05-26</td>\n",
              "      <td>2020</td>\n",
              "      <td>Ansonia</td>\n",
              "      <td>152 JACKSON ST</td>\n",
              "      <td>110500.0</td>\n",
              "      <td>239900.0</td>\n",
              "      <td>0.4606</td>\n",
              "      <td>Residential</td>\n",
              "      <td>Three Family</td>\n",
              "      <td>NaN</td>\n",
              "      <td>NaN</td>\n",
              "    </tr>\n",
              "    <tr>\n",
              "      <th>2</th>\n",
              "      <td>2021-09-13</td>\n",
              "      <td>2020</td>\n",
              "      <td>Ansonia</td>\n",
              "      <td>230 WAKELEE AVE</td>\n",
              "      <td>150500.0</td>\n",
              "      <td>325000.0</td>\n",
              "      <td>0.4630</td>\n",
              "      <td>Commercial</td>\n",
              "      <td>NaN</td>\n",
              "      <td>NaN</td>\n",
              "      <td>NaN</td>\n",
              "    </tr>\n",
              "    <tr>\n",
              "      <th>3</th>\n",
              "      <td>2020-12-14</td>\n",
              "      <td>2020</td>\n",
              "      <td>Ansonia</td>\n",
              "      <td>57 PLATT ST</td>\n",
              "      <td>127400.0</td>\n",
              "      <td>202500.0</td>\n",
              "      <td>0.6291</td>\n",
              "      <td>Residential</td>\n",
              "      <td>Two Family</td>\n",
              "      <td>NaN</td>\n",
              "      <td>NaN</td>\n",
              "    </tr>\n",
              "    <tr>\n",
              "      <th>4</th>\n",
              "      <td>2021-09-07</td>\n",
              "      <td>2020</td>\n",
              "      <td>Avon</td>\n",
              "      <td>245 NEW ROAD</td>\n",
              "      <td>217640.0</td>\n",
              "      <td>400000.0</td>\n",
              "      <td>0.5441</td>\n",
              "      <td>Residential</td>\n",
              "      <td>Single Family</td>\n",
              "      <td>NaN</td>\n",
              "      <td>NaN</td>\n",
              "    </tr>\n",
              "  </tbody>\n",
              "</table>\n",
              "</div>\n",
              "    <div class=\"colab-df-buttons\">\n",
              "\n",
              "  <div class=\"colab-df-container\">\n",
              "    <button class=\"colab-df-convert\" onclick=\"convertToInteractive('df-f9c7e6b2-3e85-432f-ad01-bf7fcd90bd12')\"\n",
              "            title=\"Convert this dataframe to an interactive table.\"\n",
              "            style=\"display:none;\">\n",
              "\n",
              "  <svg xmlns=\"http://www.w3.org/2000/svg\" height=\"24px\" viewBox=\"0 -960 960 960\">\n",
              "    <path d=\"M120-120v-720h720v720H120Zm60-500h600v-160H180v160Zm220 220h160v-160H400v160Zm0 220h160v-160H400v160ZM180-400h160v-160H180v160Zm440 0h160v-160H620v160ZM180-180h160v-160H180v160Zm440 0h160v-160H620v160Z\"/>\n",
              "  </svg>\n",
              "    </button>\n",
              "\n",
              "  <style>\n",
              "    .colab-df-container {\n",
              "      display:flex;\n",
              "      gap: 12px;\n",
              "    }\n",
              "\n",
              "    .colab-df-convert {\n",
              "      background-color: #E8F0FE;\n",
              "      border: none;\n",
              "      border-radius: 50%;\n",
              "      cursor: pointer;\n",
              "      display: none;\n",
              "      fill: #1967D2;\n",
              "      height: 32px;\n",
              "      padding: 0 0 0 0;\n",
              "      width: 32px;\n",
              "    }\n",
              "\n",
              "    .colab-df-convert:hover {\n",
              "      background-color: #E2EBFA;\n",
              "      box-shadow: 0px 1px 2px rgba(60, 64, 67, 0.3), 0px 1px 3px 1px rgba(60, 64, 67, 0.15);\n",
              "      fill: #174EA6;\n",
              "    }\n",
              "\n",
              "    .colab-df-buttons div {\n",
              "      margin-bottom: 4px;\n",
              "    }\n",
              "\n",
              "    [theme=dark] .colab-df-convert {\n",
              "      background-color: #3B4455;\n",
              "      fill: #D2E3FC;\n",
              "    }\n",
              "\n",
              "    [theme=dark] .colab-df-convert:hover {\n",
              "      background-color: #434B5C;\n",
              "      box-shadow: 0px 1px 3px 1px rgba(0, 0, 0, 0.15);\n",
              "      filter: drop-shadow(0px 1px 2px rgba(0, 0, 0, 0.3));\n",
              "      fill: #FFFFFF;\n",
              "    }\n",
              "  </style>\n",
              "\n",
              "    <script>\n",
              "      const buttonEl =\n",
              "        document.querySelector('#df-f9c7e6b2-3e85-432f-ad01-bf7fcd90bd12 button.colab-df-convert');\n",
              "      buttonEl.style.display =\n",
              "        google.colab.kernel.accessAllowed ? 'block' : 'none';\n",
              "\n",
              "      async function convertToInteractive(key) {\n",
              "        const element = document.querySelector('#df-f9c7e6b2-3e85-432f-ad01-bf7fcd90bd12');\n",
              "        const dataTable =\n",
              "          await google.colab.kernel.invokeFunction('convertToInteractive',\n",
              "                                                    [key], {});\n",
              "        if (!dataTable) return;\n",
              "\n",
              "        const docLinkHtml = 'Like what you see? Visit the ' +\n",
              "          '<a target=\"_blank\" href=https://colab.research.google.com/notebooks/data_table.ipynb>data table notebook</a>'\n",
              "          + ' to learn more about interactive tables.';\n",
              "        element.innerHTML = '';\n",
              "        dataTable['output_type'] = 'display_data';\n",
              "        await google.colab.output.renderOutput(dataTable, element);\n",
              "        const docLink = document.createElement('div');\n",
              "        docLink.innerHTML = docLinkHtml;\n",
              "        element.appendChild(docLink);\n",
              "      }\n",
              "    </script>\n",
              "  </div>\n",
              "\n",
              "\n",
              "<div id=\"df-a05436d2-1138-4bdb-84a7-ecf757ea0cdc\">\n",
              "  <button class=\"colab-df-quickchart\" onclick=\"quickchart('df-a05436d2-1138-4bdb-84a7-ecf757ea0cdc')\"\n",
              "            title=\"Suggest charts\"\n",
              "            style=\"display:none;\">\n",
              "\n",
              "<svg xmlns=\"http://www.w3.org/2000/svg\" height=\"24px\"viewBox=\"0 0 24 24\"\n",
              "     width=\"24px\">\n",
              "    <g>\n",
              "        <path d=\"M19 3H5c-1.1 0-2 .9-2 2v14c0 1.1.9 2 2 2h14c1.1 0 2-.9 2-2V5c0-1.1-.9-2-2-2zM9 17H7v-7h2v7zm4 0h-2V7h2v10zm4 0h-2v-4h2v4z\"/>\n",
              "    </g>\n",
              "</svg>\n",
              "  </button>\n",
              "\n",
              "<style>\n",
              "  .colab-df-quickchart {\n",
              "      --bg-color: #E8F0FE;\n",
              "      --fill-color: #1967D2;\n",
              "      --hover-bg-color: #E2EBFA;\n",
              "      --hover-fill-color: #174EA6;\n",
              "      --disabled-fill-color: #AAA;\n",
              "      --disabled-bg-color: #DDD;\n",
              "  }\n",
              "\n",
              "  [theme=dark] .colab-df-quickchart {\n",
              "      --bg-color: #3B4455;\n",
              "      --fill-color: #D2E3FC;\n",
              "      --hover-bg-color: #434B5C;\n",
              "      --hover-fill-color: #FFFFFF;\n",
              "      --disabled-bg-color: #3B4455;\n",
              "      --disabled-fill-color: #666;\n",
              "  }\n",
              "\n",
              "  .colab-df-quickchart {\n",
              "    background-color: var(--bg-color);\n",
              "    border: none;\n",
              "    border-radius: 50%;\n",
              "    cursor: pointer;\n",
              "    display: none;\n",
              "    fill: var(--fill-color);\n",
              "    height: 32px;\n",
              "    padding: 0;\n",
              "    width: 32px;\n",
              "  }\n",
              "\n",
              "  .colab-df-quickchart:hover {\n",
              "    background-color: var(--hover-bg-color);\n",
              "    box-shadow: 0 1px 2px rgba(60, 64, 67, 0.3), 0 1px 3px 1px rgba(60, 64, 67, 0.15);\n",
              "    fill: var(--button-hover-fill-color);\n",
              "  }\n",
              "\n",
              "  .colab-df-quickchart-complete:disabled,\n",
              "  .colab-df-quickchart-complete:disabled:hover {\n",
              "    background-color: var(--disabled-bg-color);\n",
              "    fill: var(--disabled-fill-color);\n",
              "    box-shadow: none;\n",
              "  }\n",
              "\n",
              "  .colab-df-spinner {\n",
              "    border: 2px solid var(--fill-color);\n",
              "    border-color: transparent;\n",
              "    border-bottom-color: var(--fill-color);\n",
              "    animation:\n",
              "      spin 1s steps(1) infinite;\n",
              "  }\n",
              "\n",
              "  @keyframes spin {\n",
              "    0% {\n",
              "      border-color: transparent;\n",
              "      border-bottom-color: var(--fill-color);\n",
              "      border-left-color: var(--fill-color);\n",
              "    }\n",
              "    20% {\n",
              "      border-color: transparent;\n",
              "      border-left-color: var(--fill-color);\n",
              "      border-top-color: var(--fill-color);\n",
              "    }\n",
              "    30% {\n",
              "      border-color: transparent;\n",
              "      border-left-color: var(--fill-color);\n",
              "      border-top-color: var(--fill-color);\n",
              "      border-right-color: var(--fill-color);\n",
              "    }\n",
              "    40% {\n",
              "      border-color: transparent;\n",
              "      border-right-color: var(--fill-color);\n",
              "      border-top-color: var(--fill-color);\n",
              "    }\n",
              "    60% {\n",
              "      border-color: transparent;\n",
              "      border-right-color: var(--fill-color);\n",
              "    }\n",
              "    80% {\n",
              "      border-color: transparent;\n",
              "      border-right-color: var(--fill-color);\n",
              "      border-bottom-color: var(--fill-color);\n",
              "    }\n",
              "    90% {\n",
              "      border-color: transparent;\n",
              "      border-bottom-color: var(--fill-color);\n",
              "    }\n",
              "  }\n",
              "</style>\n",
              "\n",
              "  <script>\n",
              "    async function quickchart(key) {\n",
              "      const quickchartButtonEl =\n",
              "        document.querySelector('#' + key + ' button');\n",
              "      quickchartButtonEl.disabled = true;  // To prevent multiple clicks.\n",
              "      quickchartButtonEl.classList.add('colab-df-spinner');\n",
              "      try {\n",
              "        const charts = await google.colab.kernel.invokeFunction(\n",
              "            'suggestCharts', [key], {});\n",
              "      } catch (error) {\n",
              "        console.error('Error during call to suggestCharts:', error);\n",
              "      }\n",
              "      quickchartButtonEl.classList.remove('colab-df-spinner');\n",
              "      quickchartButtonEl.classList.add('colab-df-quickchart-complete');\n",
              "    }\n",
              "    (() => {\n",
              "      let quickchartButtonEl =\n",
              "        document.querySelector('#df-a05436d2-1138-4bdb-84a7-ecf757ea0cdc button');\n",
              "      quickchartButtonEl.style.display =\n",
              "        google.colab.kernel.accessAllowed ? 'block' : 'none';\n",
              "    })();\n",
              "  </script>\n",
              "</div>\n",
              "    </div>\n",
              "  </div>\n"
            ],
            "application/vnd.google.colaboratory.intrinsic+json": {
              "type": "dataframe",
              "variable_name": "df"
            }
          },
          "metadata": {},
          "execution_count": 210
        }
      ]
    },
    {
      "cell_type": "markdown",
      "source": [
        "Vemos metricas a modo de resumen del dataset."
      ],
      "metadata": {
        "id": "fLQdlqetcXtz"
      }
    },
    {
      "cell_type": "code",
      "source": [
        "ds_resumen = df.describe()\n",
        "ds_resumen"
      ],
      "metadata": {
        "colab": {
          "base_uri": "https://localhost:8080/",
          "height": 300
        },
        "id": "1xRnXWCMcOU-",
        "outputId": "aa3e2862-6733-4990-e97d-26bf3fb26f7d"
      },
      "execution_count": 211,
      "outputs": [
        {
          "output_type": "execute_result",
          "data": {
            "text/plain": [
              "          List Year  Assessed Value   Sale Amount   Sales Ratio  \\\n",
              "count  1.054159e+06    1.054159e+06  1.054159e+06  1.054159e+06   \n",
              "mean   2.010774e+03    2.797416e+05  3.990286e+05  9.953241e+00   \n",
              "std    6.540711e+00    1.650117e+06  5.229758e+06  1.838434e+03   \n",
              "min    2.001000e+03    0.000000e+00  0.000000e+00  0.000000e+00   \n",
              "25%    2.004000e+03    8.845000e+04  1.422000e+05  4.816008e-01   \n",
              "50%    2.011000e+03    1.395800e+05  2.300000e+05  6.162887e-01   \n",
              "75%    2.017000e+03    2.270000e+05  3.700000e+05  7.764000e-01   \n",
              "max    2.021000e+03    8.815100e+08  5.000000e+09  1.226420e+06   \n",
              "\n",
              "           Longitude       Latitude  \n",
              "count  254643.000000  254643.000000  \n",
              "mean      -72.878565      41.499377  \n",
              "std         0.446531       0.258100  \n",
              "min      -121.230910      34.345810  \n",
              "25%       -73.198040      41.292266  \n",
              "50%       -72.900600      41.504259  \n",
              "75%       -72.633226      41.714357  \n",
              "max       -71.187550      44.934590  "
            ],
            "text/html": [
              "\n",
              "  <div id=\"df-917f764a-d62b-4a9e-b41d-fef3d8338714\" class=\"colab-df-container\">\n",
              "    <div>\n",
              "<style scoped>\n",
              "    .dataframe tbody tr th:only-of-type {\n",
              "        vertical-align: middle;\n",
              "    }\n",
              "\n",
              "    .dataframe tbody tr th {\n",
              "        vertical-align: top;\n",
              "    }\n",
              "\n",
              "    .dataframe thead th {\n",
              "        text-align: right;\n",
              "    }\n",
              "</style>\n",
              "<table border=\"1\" class=\"dataframe\">\n",
              "  <thead>\n",
              "    <tr style=\"text-align: right;\">\n",
              "      <th></th>\n",
              "      <th>List Year</th>\n",
              "      <th>Assessed Value</th>\n",
              "      <th>Sale Amount</th>\n",
              "      <th>Sales Ratio</th>\n",
              "      <th>Longitude</th>\n",
              "      <th>Latitude</th>\n",
              "    </tr>\n",
              "  </thead>\n",
              "  <tbody>\n",
              "    <tr>\n",
              "      <th>count</th>\n",
              "      <td>1.054159e+06</td>\n",
              "      <td>1.054159e+06</td>\n",
              "      <td>1.054159e+06</td>\n",
              "      <td>1.054159e+06</td>\n",
              "      <td>254643.000000</td>\n",
              "      <td>254643.000000</td>\n",
              "    </tr>\n",
              "    <tr>\n",
              "      <th>mean</th>\n",
              "      <td>2.010774e+03</td>\n",
              "      <td>2.797416e+05</td>\n",
              "      <td>3.990286e+05</td>\n",
              "      <td>9.953241e+00</td>\n",
              "      <td>-72.878565</td>\n",
              "      <td>41.499377</td>\n",
              "    </tr>\n",
              "    <tr>\n",
              "      <th>std</th>\n",
              "      <td>6.540711e+00</td>\n",
              "      <td>1.650117e+06</td>\n",
              "      <td>5.229758e+06</td>\n",
              "      <td>1.838434e+03</td>\n",
              "      <td>0.446531</td>\n",
              "      <td>0.258100</td>\n",
              "    </tr>\n",
              "    <tr>\n",
              "      <th>min</th>\n",
              "      <td>2.001000e+03</td>\n",
              "      <td>0.000000e+00</td>\n",
              "      <td>0.000000e+00</td>\n",
              "      <td>0.000000e+00</td>\n",
              "      <td>-121.230910</td>\n",
              "      <td>34.345810</td>\n",
              "    </tr>\n",
              "    <tr>\n",
              "      <th>25%</th>\n",
              "      <td>2.004000e+03</td>\n",
              "      <td>8.845000e+04</td>\n",
              "      <td>1.422000e+05</td>\n",
              "      <td>4.816008e-01</td>\n",
              "      <td>-73.198040</td>\n",
              "      <td>41.292266</td>\n",
              "    </tr>\n",
              "    <tr>\n",
              "      <th>50%</th>\n",
              "      <td>2.011000e+03</td>\n",
              "      <td>1.395800e+05</td>\n",
              "      <td>2.300000e+05</td>\n",
              "      <td>6.162887e-01</td>\n",
              "      <td>-72.900600</td>\n",
              "      <td>41.504259</td>\n",
              "    </tr>\n",
              "    <tr>\n",
              "      <th>75%</th>\n",
              "      <td>2.017000e+03</td>\n",
              "      <td>2.270000e+05</td>\n",
              "      <td>3.700000e+05</td>\n",
              "      <td>7.764000e-01</td>\n",
              "      <td>-72.633226</td>\n",
              "      <td>41.714357</td>\n",
              "    </tr>\n",
              "    <tr>\n",
              "      <th>max</th>\n",
              "      <td>2.021000e+03</td>\n",
              "      <td>8.815100e+08</td>\n",
              "      <td>5.000000e+09</td>\n",
              "      <td>1.226420e+06</td>\n",
              "      <td>-71.187550</td>\n",
              "      <td>44.934590</td>\n",
              "    </tr>\n",
              "  </tbody>\n",
              "</table>\n",
              "</div>\n",
              "    <div class=\"colab-df-buttons\">\n",
              "\n",
              "  <div class=\"colab-df-container\">\n",
              "    <button class=\"colab-df-convert\" onclick=\"convertToInteractive('df-917f764a-d62b-4a9e-b41d-fef3d8338714')\"\n",
              "            title=\"Convert this dataframe to an interactive table.\"\n",
              "            style=\"display:none;\">\n",
              "\n",
              "  <svg xmlns=\"http://www.w3.org/2000/svg\" height=\"24px\" viewBox=\"0 -960 960 960\">\n",
              "    <path d=\"M120-120v-720h720v720H120Zm60-500h600v-160H180v160Zm220 220h160v-160H400v160Zm0 220h160v-160H400v160ZM180-400h160v-160H180v160Zm440 0h160v-160H620v160ZM180-180h160v-160H180v160Zm440 0h160v-160H620v160Z\"/>\n",
              "  </svg>\n",
              "    </button>\n",
              "\n",
              "  <style>\n",
              "    .colab-df-container {\n",
              "      display:flex;\n",
              "      gap: 12px;\n",
              "    }\n",
              "\n",
              "    .colab-df-convert {\n",
              "      background-color: #E8F0FE;\n",
              "      border: none;\n",
              "      border-radius: 50%;\n",
              "      cursor: pointer;\n",
              "      display: none;\n",
              "      fill: #1967D2;\n",
              "      height: 32px;\n",
              "      padding: 0 0 0 0;\n",
              "      width: 32px;\n",
              "    }\n",
              "\n",
              "    .colab-df-convert:hover {\n",
              "      background-color: #E2EBFA;\n",
              "      box-shadow: 0px 1px 2px rgba(60, 64, 67, 0.3), 0px 1px 3px 1px rgba(60, 64, 67, 0.15);\n",
              "      fill: #174EA6;\n",
              "    }\n",
              "\n",
              "    .colab-df-buttons div {\n",
              "      margin-bottom: 4px;\n",
              "    }\n",
              "\n",
              "    [theme=dark] .colab-df-convert {\n",
              "      background-color: #3B4455;\n",
              "      fill: #D2E3FC;\n",
              "    }\n",
              "\n",
              "    [theme=dark] .colab-df-convert:hover {\n",
              "      background-color: #434B5C;\n",
              "      box-shadow: 0px 1px 3px 1px rgba(0, 0, 0, 0.15);\n",
              "      filter: drop-shadow(0px 1px 2px rgba(0, 0, 0, 0.3));\n",
              "      fill: #FFFFFF;\n",
              "    }\n",
              "  </style>\n",
              "\n",
              "    <script>\n",
              "      const buttonEl =\n",
              "        document.querySelector('#df-917f764a-d62b-4a9e-b41d-fef3d8338714 button.colab-df-convert');\n",
              "      buttonEl.style.display =\n",
              "        google.colab.kernel.accessAllowed ? 'block' : 'none';\n",
              "\n",
              "      async function convertToInteractive(key) {\n",
              "        const element = document.querySelector('#df-917f764a-d62b-4a9e-b41d-fef3d8338714');\n",
              "        const dataTable =\n",
              "          await google.colab.kernel.invokeFunction('convertToInteractive',\n",
              "                                                    [key], {});\n",
              "        if (!dataTable) return;\n",
              "\n",
              "        const docLinkHtml = 'Like what you see? Visit the ' +\n",
              "          '<a target=\"_blank\" href=https://colab.research.google.com/notebooks/data_table.ipynb>data table notebook</a>'\n",
              "          + ' to learn more about interactive tables.';\n",
              "        element.innerHTML = '';\n",
              "        dataTable['output_type'] = 'display_data';\n",
              "        await google.colab.output.renderOutput(dataTable, element);\n",
              "        const docLink = document.createElement('div');\n",
              "        docLink.innerHTML = docLinkHtml;\n",
              "        element.appendChild(docLink);\n",
              "      }\n",
              "    </script>\n",
              "  </div>\n",
              "\n",
              "\n",
              "<div id=\"df-894e582e-0f6b-4682-b7e1-bdc34b15ad59\">\n",
              "  <button class=\"colab-df-quickchart\" onclick=\"quickchart('df-894e582e-0f6b-4682-b7e1-bdc34b15ad59')\"\n",
              "            title=\"Suggest charts\"\n",
              "            style=\"display:none;\">\n",
              "\n",
              "<svg xmlns=\"http://www.w3.org/2000/svg\" height=\"24px\"viewBox=\"0 0 24 24\"\n",
              "     width=\"24px\">\n",
              "    <g>\n",
              "        <path d=\"M19 3H5c-1.1 0-2 .9-2 2v14c0 1.1.9 2 2 2h14c1.1 0 2-.9 2-2V5c0-1.1-.9-2-2-2zM9 17H7v-7h2v7zm4 0h-2V7h2v10zm4 0h-2v-4h2v4z\"/>\n",
              "    </g>\n",
              "</svg>\n",
              "  </button>\n",
              "\n",
              "<style>\n",
              "  .colab-df-quickchart {\n",
              "      --bg-color: #E8F0FE;\n",
              "      --fill-color: #1967D2;\n",
              "      --hover-bg-color: #E2EBFA;\n",
              "      --hover-fill-color: #174EA6;\n",
              "      --disabled-fill-color: #AAA;\n",
              "      --disabled-bg-color: #DDD;\n",
              "  }\n",
              "\n",
              "  [theme=dark] .colab-df-quickchart {\n",
              "      --bg-color: #3B4455;\n",
              "      --fill-color: #D2E3FC;\n",
              "      --hover-bg-color: #434B5C;\n",
              "      --hover-fill-color: #FFFFFF;\n",
              "      --disabled-bg-color: #3B4455;\n",
              "      --disabled-fill-color: #666;\n",
              "  }\n",
              "\n",
              "  .colab-df-quickchart {\n",
              "    background-color: var(--bg-color);\n",
              "    border: none;\n",
              "    border-radius: 50%;\n",
              "    cursor: pointer;\n",
              "    display: none;\n",
              "    fill: var(--fill-color);\n",
              "    height: 32px;\n",
              "    padding: 0;\n",
              "    width: 32px;\n",
              "  }\n",
              "\n",
              "  .colab-df-quickchart:hover {\n",
              "    background-color: var(--hover-bg-color);\n",
              "    box-shadow: 0 1px 2px rgba(60, 64, 67, 0.3), 0 1px 3px 1px rgba(60, 64, 67, 0.15);\n",
              "    fill: var(--button-hover-fill-color);\n",
              "  }\n",
              "\n",
              "  .colab-df-quickchart-complete:disabled,\n",
              "  .colab-df-quickchart-complete:disabled:hover {\n",
              "    background-color: var(--disabled-bg-color);\n",
              "    fill: var(--disabled-fill-color);\n",
              "    box-shadow: none;\n",
              "  }\n",
              "\n",
              "  .colab-df-spinner {\n",
              "    border: 2px solid var(--fill-color);\n",
              "    border-color: transparent;\n",
              "    border-bottom-color: var(--fill-color);\n",
              "    animation:\n",
              "      spin 1s steps(1) infinite;\n",
              "  }\n",
              "\n",
              "  @keyframes spin {\n",
              "    0% {\n",
              "      border-color: transparent;\n",
              "      border-bottom-color: var(--fill-color);\n",
              "      border-left-color: var(--fill-color);\n",
              "    }\n",
              "    20% {\n",
              "      border-color: transparent;\n",
              "      border-left-color: var(--fill-color);\n",
              "      border-top-color: var(--fill-color);\n",
              "    }\n",
              "    30% {\n",
              "      border-color: transparent;\n",
              "      border-left-color: var(--fill-color);\n",
              "      border-top-color: var(--fill-color);\n",
              "      border-right-color: var(--fill-color);\n",
              "    }\n",
              "    40% {\n",
              "      border-color: transparent;\n",
              "      border-right-color: var(--fill-color);\n",
              "      border-top-color: var(--fill-color);\n",
              "    }\n",
              "    60% {\n",
              "      border-color: transparent;\n",
              "      border-right-color: var(--fill-color);\n",
              "    }\n",
              "    80% {\n",
              "      border-color: transparent;\n",
              "      border-right-color: var(--fill-color);\n",
              "      border-bottom-color: var(--fill-color);\n",
              "    }\n",
              "    90% {\n",
              "      border-color: transparent;\n",
              "      border-bottom-color: var(--fill-color);\n",
              "    }\n",
              "  }\n",
              "</style>\n",
              "\n",
              "  <script>\n",
              "    async function quickchart(key) {\n",
              "      const quickchartButtonEl =\n",
              "        document.querySelector('#' + key + ' button');\n",
              "      quickchartButtonEl.disabled = true;  // To prevent multiple clicks.\n",
              "      quickchartButtonEl.classList.add('colab-df-spinner');\n",
              "      try {\n",
              "        const charts = await google.colab.kernel.invokeFunction(\n",
              "            'suggestCharts', [key], {});\n",
              "      } catch (error) {\n",
              "        console.error('Error during call to suggestCharts:', error);\n",
              "      }\n",
              "      quickchartButtonEl.classList.remove('colab-df-spinner');\n",
              "      quickchartButtonEl.classList.add('colab-df-quickchart-complete');\n",
              "    }\n",
              "    (() => {\n",
              "      let quickchartButtonEl =\n",
              "        document.querySelector('#df-894e582e-0f6b-4682-b7e1-bdc34b15ad59 button');\n",
              "      quickchartButtonEl.style.display =\n",
              "        google.colab.kernel.accessAllowed ? 'block' : 'none';\n",
              "    })();\n",
              "  </script>\n",
              "</div>\n",
              "    </div>\n",
              "  </div>\n"
            ],
            "application/vnd.google.colaboratory.intrinsic+json": {
              "type": "dataframe",
              "variable_name": "ds_resumen",
              "summary": "{\n  \"name\": \"ds_resumen\",\n  \"rows\": 8,\n  \"fields\": [\n    {\n      \"column\": \"List Year\",\n      \"properties\": {\n        \"dtype\": \"number\",\n        \"std\": 372092.4562439965,\n        \"min\": 6.540711002713522,\n        \"max\": 1054159.0,\n        \"num_unique_values\": 8,\n        \"samples\": [\n          2010.7737978805853,\n          2011.0,\n          1054159.0\n        ],\n        \"semantic_type\": \"\",\n        \"description\": \"\"\n      }\n    },\n    {\n      \"column\": \"Assessed Value\",\n      \"properties\": {\n        \"dtype\": \"number\",\n        \"std\": 311487678.9942377,\n        \"min\": 0.0,\n        \"max\": 881510000.0,\n        \"num_unique_values\": 8,\n        \"samples\": [\n          279741.56534925,\n          139580.0,\n          1054159.0\n        ],\n        \"semantic_type\": \"\",\n        \"description\": \"\"\n      }\n    },\n    {\n      \"column\": \"Sale Amount\",\n      \"properties\": {\n        \"dtype\": \"number\",\n        \"std\": 1767392773.336869,\n        \"min\": 0.0,\n        \"max\": 5000000000.0,\n        \"num_unique_values\": 8,\n        \"samples\": [\n          399028.6425151518,\n          230000.0,\n          1054159.0\n        ],\n        \"semantic_type\": \"\",\n        \"description\": \"\"\n      }\n    },\n    {\n      \"column\": \"Sales Ratio\",\n      \"properties\": {\n        \"dtype\": \"number\",\n        \"std\": 529713.5583235128,\n        \"min\": 0.0,\n        \"max\": 1226420.0,\n        \"num_unique_values\": 8,\n        \"samples\": [\n          9.95324141263728,\n          0.61628866,\n          1054159.0\n        ],\n        \"semantic_type\": \"\",\n        \"description\": \"\"\n      }\n    },\n    {\n      \"column\": \"Longitude\",\n      \"properties\": {\n        \"dtype\": \"number\",\n        \"std\": 90054.32667977842,\n        \"min\": -121.23091,\n        \"max\": 254643.0,\n        \"num_unique_values\": 8,\n        \"samples\": [\n          -72.87856536809021,\n          -72.9006,\n          254643.0\n        ],\n        \"semantic_type\": \"\",\n        \"description\": \"\"\n      }\n    },\n    {\n      \"column\": \"Latitude\",\n      \"properties\": {\n        \"dtype\": \"number\",\n        \"std\": 90017.49512628652,\n        \"min\": 0.25810018182195604,\n        \"max\": 254643.0,\n        \"num_unique_values\": 8,\n        \"samples\": [\n          41.499377198957106,\n          41.504258989,\n          254643.0\n        ],\n        \"semantic_type\": \"\",\n        \"description\": \"\"\n      }\n    }\n  ]\n}"
            }
          },
          "metadata": {},
          "execution_count": 211
        }
      ]
    },
    {
      "cell_type": "markdown",
      "source": [
        "Visualizacion de que tipos de property types hay"
      ],
      "metadata": {
        "id": "rPNtwsXEkXel"
      }
    },
    {
      "cell_type": "code",
      "source": [
        "plot = df[\"Property Type\"].value_counts()\n",
        "plt.figure(figsize=(14, 6))\n",
        "sns.barplot(x=plot.index, y=plot.values, hue=plot)\n",
        "plt.xlabel(\"Property Types\")\n",
        "plt.ylabel(\"Frecuencia\")\n",
        "plt.title(\"Frecuencia de property types\")\n",
        "plt.show()"
      ],
      "metadata": {
        "colab": {
          "base_uri": "https://localhost:8080/",
          "height": 522
        },
        "id": "ZpnWXSrYlIeQ",
        "outputId": "8efeb500-f950-4ca7-8f12-d6327cdfbaed"
      },
      "execution_count": 212,
      "outputs": [
        {
          "output_type": "display_data",
          "data": {
            "text/plain": [
              "<Figure size 1400x600 with 1 Axes>"
            ],
            "image/png": "[encoded data removed]"
          },
          "metadata": {}
        }
      ]
    },
    {
      "cell_type": "markdown",
      "source": [
        "Visualizacion de los residential types"
      ],
      "metadata": {
        "id": "oRgG2ywNCJ8a"
      }
    },
    {
      "cell_type": "code",
      "source": [
        "plot = df[\"Residential Type\"].value_counts()\n",
        "plt.figure(figsize=(14, 6))\n",
        "sns.barplot(x=plot.index, y=plot.values, hue=plot)\n",
        "plt.xlabel(\"Residential Types\")\n",
        "plt.ylabel(\"Frecuencia\")\n",
        "plt.title(\"Frecuencia de Residential types\")\n",
        "plt.show()"
      ],
      "metadata": {
        "colab": {
          "base_uri": "https://localhost:8080/",
          "height": 522
        },
        "id": "D87Mh2YZCIIc",
        "outputId": "fb266f40-568b-46fc-8e77-c778283f815b"
      },
      "execution_count": 213,
      "outputs": [
        {
          "output_type": "display_data",
          "data": {
            "text/plain": [
              "<Figure size 1400x600 with 1 Axes>"
            ],
            "image/png": "[encoded data removed]"
          },
          "metadata": {}
        }
      ]
    },
    {
      "cell_type": "markdown",
      "source": [
        "Como se puede ver hay valores propios de residential type dentro de property types, esto se analizara y se decidira que hacer con dichas columnas en la seccion de validacion de integridad de los datos."
      ],
      "metadata": {
        "id": "PRENVCqHCML_"
      }
    },
    {
      "cell_type": "markdown",
      "source": [
        "Las ciudades que aparecen en el dataset son las siguientes"
      ],
      "metadata": {
        "id": "kz_V2wD4nWEi"
      }
    },
    {
      "cell_type": "code",
      "source": [
        "df['Town'].value_counts()"
      ],
      "metadata": {
        "colab": {
          "base_uri": "https://localhost:8080/"
        },
        "id": "Zb8DiZZQnbWB",
        "outputId": "a250ad6b-0c0d-4558-9938-cd7879c935cc"
      },
      "execution_count": 214,
      "outputs": [
        {
          "output_type": "execute_result",
          "data": {
            "text/plain": [
              "Town\n",
              "Bridgeport       36486\n",
              "Stamford         34994\n",
              "Waterbury        30891\n",
              "Norwalk          25681\n",
              "New Haven        22721\n",
              "                 ...  \n",
              "Hartland           487\n",
              "Canaan             474\n",
              "Scotland           463\n",
              "Union              287\n",
              "***Unknown***        1\n",
              "Name: count, Length: 170, dtype: int64"
            ]
          },
          "metadata": {},
          "execution_count": 214
        }
      ]
    },
    {
      "cell_type": "markdown",
      "source": [
        "Se ve que hay una ciudad catalogada como ***Unknown*** la eliminamos"
      ],
      "metadata": {
        "id": "fS69XTPMsln0"
      }
    },
    {
      "cell_type": "code",
      "source": [
        "df = df.drop(df[df['Town'] == '***Unknown***'].index)"
      ],
      "metadata": {
        "id": "8IMC2uSgfW8i"
      },
      "execution_count": 215,
      "outputs": []
    },
    {
      "cell_type": "markdown",
      "source": [
        "Se observa si hay direcciones repetidas, lo cual indicaria que hay varios inmuebles que se venden mas de una vez. Esto no significa que si o si son registros duplicados, los realmente duplicados los veremos en su respectiva seccion."
      ],
      "metadata": {
        "id": "s5lnBOjefaZ0"
      }
    },
    {
      "cell_type": "markdown",
      "source": [
        "Se observa si hay direcciones repetidos, lo cual indicaria que hay varios inmuebles que se venden mas de una vez."
      ],
      "metadata": {
        "id": "UySjLrTwZ88q"
      }
    },
    {
      "cell_type": "code",
      "source": [
        "df['Address'].nunique() # Direcciones unicas"
      ],
      "metadata": {
        "colab": {
          "base_uri": "https://localhost:8080/"
        },
        "id": "RzEwxHqzYkRF",
        "outputId": "1273f4a5-5b96-4250-dff2-fe192d0c8160"
      },
      "execution_count": 216,
      "outputs": [
        {
          "output_type": "execute_result",
          "data": {
            "text/plain": [
              "747237"
            ]
          },
          "metadata": {},
          "execution_count": 216
        }
      ]
    },
    {
      "cell_type": "code",
      "source": [
        "address_counts = df.groupby('Address').size()\n",
        "addresses_with_more_than_one = address_counts[address_counts > 1]\n",
        "addresses_with_more_than_one"
      ],
      "metadata": {
        "colab": {
          "base_uri": "https://localhost:8080/"
        },
        "id": "HWJPi4ZNdV3N",
        "outputId": "3bf9e605-2eac-4add-d56d-d380a2766a99"
      },
      "execution_count": 217,
      "outputs": [
        {
          "output_type": "execute_result",
          "data": {
            "text/plain": [
              "Address\n",
              "0  PINE POINT RD                 4\n",
              "0 & 12 JOHNSON ST                4\n",
              "0 5 & 7 DOGWOOD CT               2\n",
              "0 ALLYN ST LOT 4 & 0 ALLYN ST    2\n",
              "0 ALUMNI ROAD                    2\n",
              "                                ..\n",
              "ZACCHEUS MEAD LN                 4\n",
              "ZAICEK RD                        2\n",
              "ZEIGLER RD                       2\n",
              "ZOAR ST & VILLA AVE              2\n",
              "ZURKO FARM RD                    6\n",
              "Length: 197248, dtype: int64"
            ]
          },
          "metadata": {},
          "execution_count": 217
        }
      ]
    },
    {
      "cell_type": "markdown",
      "source": [
        "Visualizamos el rango de precios general de todos los inmuebles."
      ],
      "metadata": {
        "id": "cQrByIm-c1p5"
      }
    },
    {
      "cell_type": "code",
      "source": [
        "plt.figure(figsize=(8, 6))\n",
        "sns.boxplot(data=df, y='Sale Amount')\n",
        "plt.title('Rango de sale amount')\n",
        "plt.ylabel('Sale Amount')\n",
        "plt.ylim(0, 5_000_000)\n",
        "plt.show()"
      ],
      "metadata": {
        "colab": {
          "base_uri": "https://localhost:8080/",
          "height": 530
        },
        "id": "Fh4PGl6qdAIc",
        "outputId": "7b980aea-659c-460f-f044-8b060e276857"
      },
      "execution_count": 218,
      "outputs": [
        {
          "output_type": "display_data",
          "data": {
            "text/plain": [
              "<Figure size 800x600 with 1 Axes>"
            ],
            "image/png": "[encoded data removed]"
          },
          "metadata": {}
        }
      ]
    },
    {
      "cell_type": "markdown",
      "source": [
        "Aca se pueden observar que hay bastantes valores atipicos que abordaremos en dicha seccion."
      ],
      "metadata": {
        "id": "VWlne7YFxw_I"
      }
    },
    {
      "cell_type": "markdown",
      "source": [
        "Pareciera que latitud y longitud no tienen muchos valores no nulos"
      ],
      "metadata": {
        "id": "bj_guvoNx52Y"
      }
    },
    {
      "cell_type": "code",
      "source": [
        "df[\"Latitude\"].isna().value_counts()"
      ],
      "metadata": {
        "id": "wuWOk0VNx6v6",
        "colab": {
          "base_uri": "https://localhost:8080/"
        },
        "outputId": "13237ec9-a17b-45fd-c52e-a1a23e73498d"
      },
      "execution_count": 219,
      "outputs": [
        {
          "output_type": "execute_result",
          "data": {
            "text/plain": [
              "Latitude\n",
              "True     799515\n",
              "False    254643\n",
              "Name: count, dtype: int64"
            ]
          },
          "metadata": {},
          "execution_count": 219
        }
      ]
    },
    {
      "cell_type": "code",
      "source": [
        "df[\"Longitude\"].isna().value_counts()"
      ],
      "metadata": {
        "id": "NVp50eFGy97a",
        "outputId": "86c9bd71-1364-4c04-a331-dd9dd7acbb94",
        "colab": {
          "base_uri": "https://localhost:8080/"
        }
      },
      "execution_count": 220,
      "outputs": [
        {
          "output_type": "execute_result",
          "data": {
            "text/plain": [
              "Longitude\n",
              "True     799515\n",
              "False    254643\n",
              "Name: count, dtype: int64"
            ]
          },
          "metadata": {},
          "execution_count": 220
        }
      ]
    },
    {
      "cell_type": "markdown",
      "source": [
        "En efecto la gran mayoria de sus datos son nulos, se tomara una decision sobre estos en la siguiente seccion."
      ],
      "metadata": {
        "id": "zcNRWWrsTeCK"
      }
    },
    {
      "cell_type": "markdown",
      "source": [
        "## Datos Nulos o Faltantes"
      ],
      "metadata": {
        "id": "7V1efzX90svo"
      }
    },
    {
      "cell_type": "markdown",
      "source": [
        "Primero veo los datos faltantes de cada columna en general"
      ],
      "metadata": {
        "id": "g7eGzZnXCa6z"
      }
    },
    {
      "cell_type": "code",
      "source": [
        "def print_datos_nulos(ds, feature):\n",
        "  print(df[feature].isna().value_counts())"
      ],
      "metadata": {
        "id": "LyT32LR5CY6u"
      },
      "execution_count": 221,
      "outputs": []
    },
    {
      "cell_type": "code",
      "source": [
        "for col in df.columns:\n",
        "  print_datos_nulos(df, col)"
      ],
      "metadata": {
        "colab": {
          "base_uri": "https://localhost:8080/"
        },
        "id": "e0il4h-oCXj1",
        "outputId": "25ed0754-8274-4aab-b79d-f4e58543111c"
      },
      "execution_count": 222,
      "outputs": [
        {
          "output_type": "stream",
          "name": "stdout",
          "text": [
            "Date Recorded\n",
            "False    1054156\n",
            "True           2\n",
            "Name: count, dtype: int64\n",
            "List Year\n",
            "False    1054158\n",
            "Name: count, dtype: int64\n",
            "Town\n",
            "False    1054158\n",
            "Name: count, dtype: int64\n",
            "Address\n",
            "False    1054107\n",
            "True          51\n",
            "Name: count, dtype: int64\n",
            "Assessed Value\n",
            "False    1054158\n",
            "Name: count, dtype: int64\n",
            "Sale Amount\n",
            "False    1054158\n",
            "Name: count, dtype: int64\n",
            "Sales Ratio\n",
            "False    1054158\n",
            "Name: count, dtype: int64\n",
            "Property Type\n",
            "False    671712\n",
            "True     382446\n",
            "Name: count, dtype: int64\n",
            "Residential Type\n",
            "False    660274\n",
            "True     393884\n",
            "Name: count, dtype: int64\n",
            "Longitude\n",
            "True     799515\n",
            "False    254643\n",
            "Name: count, dtype: int64\n",
            "Latitude\n",
            "True     799515\n",
            "False    254643\n",
            "Name: count, dtype: int64\n"
          ]
        }
      ]
    },
    {
      "cell_type": "markdown",
      "source": [
        "Al ser tan pocos los nulos de las columnas:\n",
        "\n",
        "* Date\n",
        "* Address\n",
        "\n",
        "Vamos a eliminar dichos registros.\n",
        "\n",
        "A su vez al ser tantos nulos (la gran mayoria) eliminaremos las columnas Latitude y Longitude."
      ],
      "metadata": {
        "id": "tactePbmCVtC"
      }
    },
    {
      "cell_type": "code",
      "source": [
        "# Sera usada en la seccion de transformacion de dataset\n",
        "def eliminar_nulos(ds):\n",
        "  cols_a_eliminar = ['Latitude', 'Longitude']\n",
        "  nulos_a_eliminar = ['Date Recorded', 'Address']\n",
        "  ds.drop(columns=cols_a_eliminar, inplace=True)\n",
        "  ds.dropna(subset=nulos_a_eliminar)"
      ],
      "metadata": {
        "id": "s3B7pkQtCUT-"
      },
      "execution_count": 223,
      "outputs": []
    },
    {
      "cell_type": "markdown",
      "source": [
        "Se decidio que residential type y property type a pesar de tener una amplia cantidad de nulos se conservaran y se analizara su integridad mas adelante."
      ],
      "metadata": {
        "id": "X4z865ZoCScP"
      }
    },
    {
      "cell_type": "markdown",
      "source": [
        "## Datos Fuera de Rango y atipicos\n"
      ],
      "metadata": {
        "id": "oNIfD6pfCfn_"
      }
    },
    {
      "cell_type": "markdown",
      "source": [
        "En esta sección de código se implementó las funciones necesarias para aplicar un flitro sobre la información del dataset, donde se quitan registros que se consideran fuera de rango, utilizando la metrica de z-score, y utilizando un umbral de referencia de valor absoluto 3 (que esté entre -3 y +3), ademas de ciertos datos analizados personalmente que se consideran un pre-filtro de la información innecesaria, específicamente que el valor de la propiedad sea mayor a 0."
      ],
      "metadata": {
        "id": "huBwZ3d5dWpW"
      }
    },
    {
      "cell_type": "code",
      "source": [
        "def crear_boxplots(ds, columnas):\n",
        "    sns.set(style=\"whitegrid\")\n",
        "\n",
        "    for columna in columnas:\n",
        "        plt.figure(figsize=(8, 4))\n",
        "        sns.boxplot(y=ds[columna])\n",
        "        sns.boxplot(palette='viridis')\n",
        "        plt.title(f'Boxplot de {columna}')\n",
        "        plt.ylabel(columna)\n",
        "        plt.show()\n",
        "\n",
        "def filtrar_atipicos(ds, umbral_zscore=3):\n",
        "    # Filtrar negativos\n",
        "    ds = ds[(ds['Sale Amount'] > 0) & (ds['Assessed Value'] > 0)]\n",
        "\n",
        "    # Calcular el Z-score\n",
        "    ds['Sale Amount Z-score'] = zscore(ds['Sale Amount'])\n",
        "    ds['Assessed Value Z-score'] = zscore(ds['Assessed Value'])\n",
        "\n",
        "    # Filtrar los outliers usando el Z-score\n",
        "    ds = ds[(ds['Sale Amount Z-score'].abs() <= umbral_zscore) &\n",
        "                              (ds['Assessed Value Z-score'].abs() <= umbral_zscore)]\n",
        "\n",
        "    ds.drop(columns=['Sale Amount Z-score', 'Assessed Value Z-score'], inplace=True)\n",
        "    return ds"
      ],
      "metadata": {
        "id": "ahs9bFBgddrw"
      },
      "execution_count": 224,
      "outputs": []
    },
    {
      "cell_type": "markdown",
      "source": [
        "Primero se aplica un analisis de datos sin filtrar, se espera que sea una visualización mediante boxplots de manera desprolija e inentendible (debido a la presencia de valores atipicos), a diferencia de la información ya filtrada proximamente:"
      ],
      "metadata": {
        "id": "bdR899ICdetn"
      }
    },
    {
      "cell_type": "code",
      "source": [
        "datosFDR_ds = df.copy()\n",
        "columnas = ['Sale Amount', 'Assessed Value']\n",
        "crear_boxplots(datosFDR_ds, columnas)"
      ],
      "metadata": {
        "id": "DaZ52kKAdhES",
        "colab": {
          "base_uri": "https://localhost:8080/",
          "height": 717
        },
        "outputId": "79c7bd94-935e-4fb5-cd9e-4a23df77c9a4"
      },
      "execution_count": 225,
      "outputs": [
        {
          "output_type": "display_data",
          "data": {
            "text/plain": [
              "<Figure size 800x400 with 1 Axes>"
            ],
            "image/png": "[encoded data removed]"
          },
          "metadata": {}
        },
        {
          "output_type": "display_data",
          "data": {
            "text/plain": [
              "<Figure size 800x400 with 1 Axes>"
            ],
            "image/png": "[encoded data removed]"
          },
          "metadata": {}
        }
      ]
    },
    {
      "cell_type": "markdown",
      "source": [
        "Ahora se aplica el filtro a la base de datos explicado previamente en las declaraciones de las funciones."
      ],
      "metadata": {
        "id": "YVtxWbC2djPz"
      }
    },
    {
      "cell_type": "code",
      "source": [
        "datosFDR_ds = filtrar_atipicos(datosFDR_ds)\n",
        "crear_boxplots(datosFDR_ds, columnas)"
      ],
      "metadata": {
        "id": "Mp5zrl6CdmN0",
        "colab": {
          "base_uri": "https://localhost:8080/",
          "height": 717
        },
        "outputId": "1aa9b474-97a4-42ab-aaf7-28608a70641b"
      },
      "execution_count": 226,
      "outputs": [
        {
          "output_type": "display_data",
          "data": {
            "text/plain": [
              "<Figure size 800x400 with 1 Axes>"
            ],
            "image/png": "[encoded data removed]"
          },
          "metadata": {}
        },
        {
          "output_type": "display_data",
          "data": {
            "text/plain": [
              "<Figure size 800x400 with 1 Axes>"
            ],
            "image/png": "[encoded data removed]"
          },
          "metadata": {}
        }
      ]
    },
    {
      "cell_type": "markdown",
      "source": [
        "## Inconsistencias de Formatos\n"
      ],
      "metadata": {
        "id": "KvBy2cQP1DtK"
      }
    },
    {
      "cell_type": "code",
      "source": [
        "def transformar_formatos(ds):\n",
        "  # Convirtiendo 'Date Recorded' al formato de fecha\n",
        "  ds['Date Recorded'] = pd.to_datetime(ds['Date Recorded'], errors='coerce')\n",
        "\n",
        "  # Transformar 'Town' de object a string\n",
        "  ds['Town'] = ds['Town'].astype(str)\n",
        "\n",
        "  # Transformar 'Property Type' de object a string\n",
        "  ds['Property Type'] = ds['Property Type'].astype(str)\n",
        "\n",
        "  # Transformar 'Residential Type' de object a string\n",
        "  ds['Residential Type'] = ds['Residential Type'].astype(str)"
      ],
      "metadata": {
        "id": "w5JID6thA0tn"
      },
      "execution_count": 227,
      "outputs": []
    },
    {
      "cell_type": "markdown",
      "source": [
        "## Datos Duplicados"
      ],
      "metadata": {
        "id": "DW4AGpci1Jt8"
      }
    },
    {
      "cell_type": "code",
      "source": [
        "duplicates = df[df.duplicated(keep=False)]\n",
        "\n",
        "# muestra todas las filas duplicadas que estan en la dataset\n",
        "duplicates.head()"
      ],
      "metadata": {
        "colab": {
          "base_uri": "https://localhost:8080/",
          "height": 276
        },
        "id": "hRy_Hewnv9hE",
        "outputId": "114b405a-dfb5-41fc-bc00-aae260f92c98"
      },
      "execution_count": 228,
      "outputs": [
        {
          "output_type": "execute_result",
          "data": {
            "text/plain": [
              "     Date Recorded  List Year        Town               Address  \\\n",
              "217     2021-02-25       2020     Shelton      197 BEARDSLEY RD   \n",
              "393     2021-01-05       2020  Litchfield         43 NORFOLK RD   \n",
              "671     2020-11-16       2020  Burlington       25 SUMMIT DRIVE   \n",
              "846     2021-01-13       2020    Guilford  312 OLD WHITFIELD ST   \n",
              "1014    2020-10-20       2020      Bethel     8 BROOKWOOD DRIVE   \n",
              "\n",
              "      Assessed Value  Sale Amount  Sales Ratio Property Type Residential Type  \\\n",
              "217         132440.0     875000.0     0.151300   Vacant Land              NaN   \n",
              "393         163640.0      75000.0     2.181800   Residential    Single Family   \n",
              "671         112980.0     191000.0     0.591518   Residential    Single Family   \n",
              "846         188520.0     161500.0     1.167300   Residential    Single Family   \n",
              "1014        155680.0     305200.0     0.510000   Residential    Single Family   \n",
              "\n",
              "      Longitude  Latitude  \n",
              "217         NaN       NaN  \n",
              "393   -73.19135  41.75989  \n",
              "671         NaN       NaN  \n",
              "846         NaN       NaN  \n",
              "1014  -73.40019  41.37792  "
            ],
            "text/html": [
              "\n",
              "  <div id=\"df-7ce495f5-b078-46b1-a5ec-418f711797c7\" class=\"colab-df-container\">\n",
              "    <div>\n",
              "<style scoped>\n",
              "    .dataframe tbody tr th:only-of-type {\n",
              "        vertical-align: middle;\n",
              "    }\n",
              "\n",
              "    .dataframe tbody tr th {\n",
              "        vertical-align: top;\n",
              "    }\n",
              "\n",
              "    .dataframe thead th {\n",
              "        text-align: right;\n",
              "    }\n",
              "</style>\n",
              "<table border=\"1\" class=\"dataframe\">\n",
              "  <thead>\n",
              "    <tr style=\"text-align: right;\">\n",
              "      <th></th>\n",
              "      <th>Date Recorded</th>\n",
              "      <th>List Year</th>\n",
              "      <th>Town</th>\n",
              "      <th>Address</th>\n",
              "      <th>Assessed Value</th>\n",
              "      <th>Sale Amount</th>\n",
              "      <th>Sales Ratio</th>\n",
              "      <th>Property Type</th>\n",
              "      <th>Residential Type</th>\n",
              "      <th>Longitude</th>\n",
              "      <th>Latitude</th>\n",
              "    </tr>\n",
              "  </thead>\n",
              "  <tbody>\n",
              "    <tr>\n",
              "      <th>217</th>\n",
              "      <td>2021-02-25</td>\n",
              "      <td>2020</td>\n",
              "      <td>Shelton</td>\n",
              "      <td>197 BEARDSLEY RD</td>\n",
              "      <td>132440.0</td>\n",
              "      <td>875000.0</td>\n",
              "      <td>0.151300</td>\n",
              "      <td>Vacant Land</td>\n",
              "      <td>NaN</td>\n",
              "      <td>NaN</td>\n",
              "      <td>NaN</td>\n",
              "    </tr>\n",
              "    <tr>\n",
              "      <th>393</th>\n",
              "      <td>2021-01-05</td>\n",
              "      <td>2020</td>\n",
              "      <td>Litchfield</td>\n",
              "      <td>43 NORFOLK RD</td>\n",
              "      <td>163640.0</td>\n",
              "      <td>75000.0</td>\n",
              "      <td>2.181800</td>\n",
              "      <td>Residential</td>\n",
              "      <td>Single Family</td>\n",
              "      <td>-73.19135</td>\n",
              "      <td>41.75989</td>\n",
              "    </tr>\n",
              "    <tr>\n",
              "      <th>671</th>\n",
              "      <td>2020-11-16</td>\n",
              "      <td>2020</td>\n",
              "      <td>Burlington</td>\n",
              "      <td>25 SUMMIT DRIVE</td>\n",
              "      <td>112980.0</td>\n",
              "      <td>191000.0</td>\n",
              "      <td>0.591518</td>\n",
              "      <td>Residential</td>\n",
              "      <td>Single Family</td>\n",
              "      <td>NaN</td>\n",
              "      <td>NaN</td>\n",
              "    </tr>\n",
              "    <tr>\n",
              "      <th>846</th>\n",
              "      <td>2021-01-13</td>\n",
              "      <td>2020</td>\n",
              "      <td>Guilford</td>\n",
              "      <td>312 OLD WHITFIELD ST</td>\n",
              "      <td>188520.0</td>\n",
              "      <td>161500.0</td>\n",
              "      <td>1.167300</td>\n",
              "      <td>Residential</td>\n",
              "      <td>Single Family</td>\n",
              "      <td>NaN</td>\n",
              "      <td>NaN</td>\n",
              "    </tr>\n",
              "    <tr>\n",
              "      <th>1014</th>\n",
              "      <td>2020-10-20</td>\n",
              "      <td>2020</td>\n",
              "      <td>Bethel</td>\n",
              "      <td>8 BROOKWOOD DRIVE</td>\n",
              "      <td>155680.0</td>\n",
              "      <td>305200.0</td>\n",
              "      <td>0.510000</td>\n",
              "      <td>Residential</td>\n",
              "      <td>Single Family</td>\n",
              "      <td>-73.40019</td>\n",
              "      <td>41.37792</td>\n",
              "    </tr>\n",
              "  </tbody>\n",
              "</table>\n",
              "</div>\n",
              "    <div class=\"colab-df-buttons\">\n",
              "\n",
              "  <div class=\"colab-df-container\">\n",
              "    <button class=\"colab-df-convert\" onclick=\"convertToInteractive('df-7ce495f5-b078-46b1-a5ec-418f711797c7')\"\n",
              "            title=\"Convert this dataframe to an interactive table.\"\n",
              "            style=\"display:none;\">\n",
              "\n",
              "  <svg xmlns=\"http://www.w3.org/2000/svg\" height=\"24px\" viewBox=\"0 -960 960 960\">\n",
              "    <path d=\"M120-120v-720h720v720H120Zm60-500h600v-160H180v160Zm220 220h160v-160H400v160Zm0 220h160v-160H400v160ZM180-400h160v-160H180v160Zm440 0h160v-160H620v160ZM180-180h160v-160H180v160Zm440 0h160v-160H620v160Z\"/>\n",
              "  </svg>\n",
              "    </button>\n",
              "\n",
              "  <style>\n",
              "    .colab-df-container {\n",
              "      display:flex;\n",
              "      gap: 12px;\n",
              "    }\n",
              "\n",
              "    .colab-df-convert {\n",
              "      background-color: #E8F0FE;\n",
              "      border: none;\n",
              "      border-radius: 50%;\n",
              "      cursor: pointer;\n",
              "      display: none;\n",
              "      fill: #1967D2;\n",
              "      height: 32px;\n",
              "      padding: 0 0 0 0;\n",
              "      width: 32px;\n",
              "    }\n",
              "\n",
              "    .colab-df-convert:hover {\n",
              "      background-color: #E2EBFA;\n",
              "      box-shadow: 0px 1px 2px rgba(60, 64, 67, 0.3), 0px 1px 3px 1px rgba(60, 64, 67, 0.15);\n",
              "      fill: #174EA6;\n",
              "    }\n",
              "\n",
              "    .colab-df-buttons div {\n",
              "      margin-bottom: 4px;\n",
              "    }\n",
              "\n",
              "    [theme=dark] .colab-df-convert {\n",
              "      background-color: #3B4455;\n",
              "      fill: #D2E3FC;\n",
              "    }\n",
              "\n",
              "    [theme=dark] .colab-df-convert:hover {\n",
              "      background-color: #434B5C;\n",
              "      box-shadow: 0px 1px 3px 1px rgba(0, 0, 0, 0.15);\n",
              "      filter: drop-shadow(0px 1px 2px rgba(0, 0, 0, 0.3));\n",
              "      fill: #FFFFFF;\n",
              "    }\n",
              "  </style>\n",
              "\n",
              "    <script>\n",
              "      const buttonEl =\n",
              "        document.querySelector('#df-7ce495f5-b078-46b1-a5ec-418f711797c7 button.colab-df-convert');\n",
              "      buttonEl.style.display =\n",
              "        google.colab.kernel.accessAllowed ? 'block' : 'none';\n",
              "\n",
              "      async function convertToInteractive(key) {\n",
              "        const element = document.querySelector('#df-7ce495f5-b078-46b1-a5ec-418f711797c7');\n",
              "        const dataTable =\n",
              "          await google.colab.kernel.invokeFunction('convertToInteractive',\n",
              "                                                    [key], {});\n",
              "        if (!dataTable) return;\n",
              "\n",
              "        const docLinkHtml = 'Like what you see? Visit the ' +\n",
              "          '<a target=\"_blank\" href=https://colab.research.google.com/notebooks/data_table.ipynb>data table notebook</a>'\n",
              "          + ' to learn more about interactive tables.';\n",
              "        element.innerHTML = '';\n",
              "        dataTable['output_type'] = 'display_data';\n",
              "        await google.colab.output.renderOutput(dataTable, element);\n",
              "        const docLink = document.createElement('div');\n",
              "        docLink.innerHTML = docLinkHtml;\n",
              "        element.appendChild(docLink);\n",
              "      }\n",
              "    </script>\n",
              "  </div>\n",
              "\n",
              "\n",
              "<div id=\"df-cb125184-5a67-4241-99c9-109a70d6b8bb\">\n",
              "  <button class=\"colab-df-quickchart\" onclick=\"quickchart('df-cb125184-5a67-4241-99c9-109a70d6b8bb')\"\n",
              "            title=\"Suggest charts\"\n",
              "            style=\"display:none;\">\n",
              "\n",
              "<svg xmlns=\"http://www.w3.org/2000/svg\" height=\"24px\"viewBox=\"0 0 24 24\"\n",
              "     width=\"24px\">\n",
              "    <g>\n",
              "        <path d=\"M19 3H5c-1.1 0-2 .9-2 2v14c0 1.1.9 2 2 2h14c1.1 0 2-.9 2-2V5c0-1.1-.9-2-2-2zM9 17H7v-7h2v7zm4 0h-2V7h2v10zm4 0h-2v-4h2v4z\"/>\n",
              "    </g>\n",
              "</svg>\n",
              "  </button>\n",
              "\n",
              "<style>\n",
              "  .colab-df-quickchart {\n",
              "      --bg-color: #E8F0FE;\n",
              "      --fill-color: #1967D2;\n",
              "      --hover-bg-color: #E2EBFA;\n",
              "      --hover-fill-color: #174EA6;\n",
              "      --disabled-fill-color: #AAA;\n",
              "      --disabled-bg-color: #DDD;\n",
              "  }\n",
              "\n",
              "  [theme=dark] .colab-df-quickchart {\n",
              "      --bg-color: #3B4455;\n",
              "      --fill-color: #D2E3FC;\n",
              "      --hover-bg-color: #434B5C;\n",
              "      --hover-fill-color: #FFFFFF;\n",
              "      --disabled-bg-color: #3B4455;\n",
              "      --disabled-fill-color: #666;\n",
              "  }\n",
              "\n",
              "  .colab-df-quickchart {\n",
              "    background-color: var(--bg-color);\n",
              "    border: none;\n",
              "    border-radius: 50%;\n",
              "    cursor: pointer;\n",
              "    display: none;\n",
              "    fill: var(--fill-color);\n",
              "    height: 32px;\n",
              "    padding: 0;\n",
              "    width: 32px;\n",
              "  }\n",
              "\n",
              "  .colab-df-quickchart:hover {\n",
              "    background-color: var(--hover-bg-color);\n",
              "    box-shadow: 0 1px 2px rgba(60, 64, 67, 0.3), 0 1px 3px 1px rgba(60, 64, 67, 0.15);\n",
              "    fill: var(--button-hover-fill-color);\n",
              "  }\n",
              "\n",
              "  .colab-df-quickchart-complete:disabled,\n",
              "  .colab-df-quickchart-complete:disabled:hover {\n",
              "    background-color: var(--disabled-bg-color);\n",
              "    fill: var(--disabled-fill-color);\n",
              "    box-shadow: none;\n",
              "  }\n",
              "\n",
              "  .colab-df-spinner {\n",
              "    border: 2px solid var(--fill-color);\n",
              "    border-color: transparent;\n",
              "    border-bottom-color: var(--fill-color);\n",
              "    animation:\n",
              "      spin 1s steps(1) infinite;\n",
              "  }\n",
              "\n",
              "  @keyframes spin {\n",
              "    0% {\n",
              "      border-color: transparent;\n",
              "      border-bottom-color: var(--fill-color);\n",
              "      border-left-color: var(--fill-color);\n",
              "    }\n",
              "    20% {\n",
              "      border-color: transparent;\n",
              "      border-left-color: var(--fill-color);\n",
              "      border-top-color: var(--fill-color);\n",
              "    }\n",
              "    30% {\n",
              "      border-color: transparent;\n",
              "      border-left-color: var(--fill-color);\n",
              "      border-top-color: var(--fill-color);\n",
              "      border-right-color: var(--fill-color);\n",
              "    }\n",
              "    40% {\n",
              "      border-color: transparent;\n",
              "      border-right-color: var(--fill-color);\n",
              "      border-top-color: var(--fill-color);\n",
              "    }\n",
              "    60% {\n",
              "      border-color: transparent;\n",
              "      border-right-color: var(--fill-color);\n",
              "    }\n",
              "    80% {\n",
              "      border-color: transparent;\n",
              "      border-right-color: var(--fill-color);\n",
              "      border-bottom-color: var(--fill-color);\n",
              "    }\n",
              "    90% {\n",
              "      border-color: transparent;\n",
              "      border-bottom-color: var(--fill-color);\n",
              "    }\n",
              "  }\n",
              "</style>\n",
              "\n",
              "  <script>\n",
              "    async function quickchart(key) {\n",
              "      const quickchartButtonEl =\n",
              "        document.querySelector('#' + key + ' button');\n",
              "      quickchartButtonEl.disabled = true;  // To prevent multiple clicks.\n",
              "      quickchartButtonEl.classList.add('colab-df-spinner');\n",
              "      try {\n",
              "        const charts = await google.colab.kernel.invokeFunction(\n",
              "            'suggestCharts', [key], {});\n",
              "      } catch (error) {\n",
              "        console.error('Error during call to suggestCharts:', error);\n",
              "      }\n",
              "      quickchartButtonEl.classList.remove('colab-df-spinner');\n",
              "      quickchartButtonEl.classList.add('colab-df-quickchart-complete');\n",
              "    }\n",
              "    (() => {\n",
              "      let quickchartButtonEl =\n",
              "        document.querySelector('#df-cb125184-5a67-4241-99c9-109a70d6b8bb button');\n",
              "      quickchartButtonEl.style.display =\n",
              "        google.colab.kernel.accessAllowed ? 'block' : 'none';\n",
              "    })();\n",
              "  </script>\n",
              "</div>\n",
              "    </div>\n",
              "  </div>\n"
            ],
            "application/vnd.google.colaboratory.intrinsic+json": {
              "type": "dataframe",
              "variable_name": "duplicates",
              "repr_error": "0"
            }
          },
          "metadata": {},
          "execution_count": 228
        }
      ]
    },
    {
      "cell_type": "code",
      "source": [
        "# Resumen de cantidad de filas duplicadas\n",
        "duplicate_counts = df.duplicated(keep=False).sum()\n",
        "print(f\"Numero de filas duplicadas: [{duplicate_counts}]\")"
      ],
      "metadata": {
        "colab": {
          "base_uri": "https://localhost:8080/"
        },
        "id": "B7XpF-AgwBv7",
        "outputId": "5b31579e-0301-4f0d-f8df-044c6819eb47"
      },
      "execution_count": 229,
      "outputs": [
        {
          "output_type": "stream",
          "name": "stdout",
          "text": [
            "Numero de filas duplicadas: [16725]\n"
          ]
        }
      ]
    },
    {
      "cell_type": "markdown",
      "source": [
        "Como podemos ver, la cantidad de filas duplicadas es menos del 2% de nuestro conjunto de datos, que tiene 1,054,159 filas. Eliminar estos duplicados no afectará negativamente la base de datos."
      ],
      "metadata": {
        "id": "wXNzDMBWwFnT"
      }
    },
    {
      "cell_type": "markdown",
      "source": [
        "A continuación, crearé una función que se utilizará más adelante para eliminar todos los datos duplicados del conjunto de datos."
      ],
      "metadata": {
        "id": "spSxNLBY2l7_"
      }
    },
    {
      "cell_type": "code",
      "source": [
        "def quitar_duplicados(df):\n",
        "    df.drop_duplicates()"
      ],
      "metadata": {
        "id": "qxCn7jpF2hcu"
      },
      "execution_count": 230,
      "outputs": []
    },
    {
      "cell_type": "markdown",
      "source": [
        "## Transformacion del Dataset\n",
        "\n",
        "A continuación, aplicaremos modificaciones al conjunto de datos para eliminar información irrelevante, inválida, inconsistente, nula y duplicada."
      ],
      "metadata": {
        "id": "WY6GD7cWxDhU"
      }
    },
    {
      "cell_type": "code",
      "source": [
        "# Eliminacion de datos nulos\n",
        "eliminar_nulos(df)\n",
        "\n",
        "# Eliminacion de datos fuera de rango\n",
        "df = filtrar_atipicos(df)\n",
        "\n",
        "# Transformar formatos\n",
        "transformar_formatos(df)\n",
        "\n",
        "# Eliminacion de datos duplicados\n",
        "quitar_duplicados(df)\n",
        "\n",
        "'''\n",
        "Luego de un analisis de la columna [Sales Ratio], descubrimos que es un campo\n",
        "calculado que consiste en:\n",
        "Assessed Value / Sale Amount = Sales Ratio\n",
        "Como esta info es facilmente obtenible a traves de una Query, no es necesario\n",
        "guardar esta columna en la base de datos. Por lo tanto hemos decidido descartar\n",
        "esta columna\n",
        "'''\n",
        "df.drop(columns=['Sales Ratio'], inplace=True)"
      ],
      "metadata": {
        "id": "p53iUDEi21aW"
      },
      "execution_count": 231,
      "outputs": []
    },
    {
      "cell_type": "markdown",
      "source": [
        "A continuacion se hara el manejo de la incongruencia entre property type y residential type mencionada en la exploracion inicial.\n",
        "\n",
        "Cambiaremos todos los property types que tengan alguno de los siguientes valores:\n",
        "\n",
        "* Single Family\n",
        "* Condo\n",
        "* Two Family\n",
        "* Three Family\n",
        "* Four Family\n",
        "\n",
        "a **Residential** y le asignaremos lo que tenia antes a su residential type."
      ],
      "metadata": {
        "id": "Mx7dha72ENML"
      }
    },
    {
      "cell_type": "code",
      "source": [
        "def transformar_incongruencias(ds, value):\n",
        "  if ds[ds['Property Type'] == value].empty: return\n",
        "  ds.loc[ds['Property Type'] == value, 'Residential Type'] = value\n",
        "  ds.loc[ds['Property Type'] == value, 'Property Type'] = 'Residential'\n",
        "\n",
        "transformar_incongruencias(df, 'Single Family')\n",
        "transformar_incongruencias(df, 'Two Family')\n",
        "transformar_incongruencias(df, 'Three Family')\n",
        "transformar_incongruencias(df, 'Four Family')\n",
        "transformar_incongruencias(df, 'Condo')"
      ],
      "metadata": {
        "id": "SchVjv4-FjsE"
      },
      "execution_count": 232,
      "outputs": []
    },
    {
      "cell_type": "code",
      "source": [
        "plot = df[\"Property Type\"].value_counts()\n",
        "plt.figure(figsize=(14, 6))\n",
        "sns.barplot(x=plot.index, y=plot.values, hue=plot)\n",
        "plt.xlabel(\"Property Types\")\n",
        "plt.ylabel(\"Frecuencia\")\n",
        "plt.title(\"Frecuencia de property types\")\n",
        "plt.show()"
      ],
      "metadata": {
        "colab": {
          "base_uri": "https://localhost:8080/",
          "height": 522
        },
        "id": "L-6619R5KsHU",
        "outputId": "c96a9da4-1f60-4247-9113-58af3507f349"
      },
      "execution_count": 233,
      "outputs": [
        {
          "output_type": "display_data",
          "data": {
            "text/plain": [
              "<Figure size 1400x600 with 1 Axes>"
            ],
            "image/png": "[encoded data removed]"
          },
          "metadata": {}
        }
      ]
    },
    {
      "cell_type": "markdown",
      "source": [
        "Como casi todas las property types que estan definidas son **residential** procedemos a dropear dicha columna y solo quedarnos con residential type"
      ],
      "metadata": {
        "id": "ZCBmb_ftK3SU"
      }
    },
    {
      "cell_type": "code",
      "source": [
        "df.drop(columns=['Property Type'], inplace=True)"
      ],
      "metadata": {
        "id": "5YPkzBFPMpLf"
      },
      "execution_count": 234,
      "outputs": []
    },
    {
      "cell_type": "markdown",
      "source": [
        "Vemos el nuevo shape del dataset"
      ],
      "metadata": {
        "id": "3VrmNY0bDxIH"
      }
    },
    {
      "cell_type": "code",
      "source": [
        "df.shape"
      ],
      "metadata": {
        "id": "6M5DihGSDy_t",
        "colab": {
          "base_uri": "https://localhost:8080/"
        },
        "outputId": "ceb16eaa-ba4b-4bc2-efb7-ab0ee77c41d9"
      },
      "execution_count": 235,
      "outputs": [
        {
          "output_type": "execute_result",
          "data": {
            "text/plain": [
              "(1041780, 7)"
            ]
          },
          "metadata": {},
          "execution_count": 235
        }
      ]
    },
    {
      "cell_type": "markdown",
      "source": [
        "Renombramos las columnas para quitar espacios:"
      ],
      "metadata": {
        "id": "_tDcfwtFP3L-"
      }
    },
    {
      "cell_type": "code",
      "source": [
        "df.rename(columns={'Date Recorded': 'date_recorded'}, inplace=True)\n",
        "df.rename(columns={'List Year': 'list_year'}, inplace=True)\n",
        "df.rename(columns={'Town': 'town'}, inplace=True)\n",
        "df.rename(columns={'Address': 'address'}, inplace=True)\n",
        "df.rename(columns={'Assessed Value': 'assessed_value'}, inplace=True)\n",
        "df.rename(columns={'Sale Amount': 'sale_amount'}, inplace=True)\n",
        "df.rename(columns={'Residential Type': 'residential_type'}, inplace=True)"
      ],
      "metadata": {
        "id": "k7Zwz0byQCjZ"
      },
      "execution_count": 236,
      "outputs": []
    },
    {
      "cell_type": "code",
      "source": [
        "df.dtypes"
      ],
      "metadata": {
        "colab": {
          "base_uri": "https://localhost:8080/"
        },
        "id": "T0V5n4TSP7HW",
        "outputId": "15528dd0-beaa-4995-f3ce-7f5a4cd7eb54"
      },
      "execution_count": 237,
      "outputs": [
        {
          "output_type": "execute_result",
          "data": {
            "text/plain": [
              "date_recorded       datetime64[ns]\n",
              "list_year                    int64\n",
              "town                        object\n",
              "address                     object\n",
              "assessed_value             float64\n",
              "sale_amount                float64\n",
              "residential_type            object\n",
              "dtype: object"
            ]
          },
          "metadata": {},
          "execution_count": 237
        }
      ]
    },
    {
      "cell_type": "markdown",
      "source": [
        "## Validacion de Integridad de los Datos\n",
        "\n",
        "Antes del análisis, realizamos una exploración inicial para revisar la información relevante del conjunto de datos, incluyendo la cantidad de columnas y filas, el tipo de columnas y la identificación de la información más importante para almacenar en la base de datos.\n",
        "\n",
        "Luego de la exploracion inicial, analizamos lo siguiente:\n",
        "\n",
        "**1. Analisis de datos Nulos:**\n",
        "\n",
        "*En esta seccion se analizan los datos nulos para tomar una decision en base a estos. La decision tomada fue eliminar las columnas de Latitud y longitud ya que eran casi 100% nulas y a su vez eliminar los registros con fechas y direcciones nulas ya que eran unos pocos.*\n",
        "\n",
        "**2. Analisis de datos fuera de rango (outliars):**\n",
        "\n",
        "    [AGREGAR RESUMEN PROPIO]\n",
        "\n",
        "**3. Inconsistencia de formatos:**\n",
        "\n",
        "*El código realiza las siguientes transformaciones en un DataFrame:*\n",
        "\n",
        "- *Convierte la columna 'Date Recorded' a formato de fecha: Utiliza pd.to_datetime para transformar los valores de esta columna en datos de tipo datetime, manejando errores con coerce para reemplazar valores no convertibles con NaT (Not a Time).*\n",
        "\n",
        "- *Convierte la columna 'Town' a tipo string: Asegura que todos los valores en la columna 'Town' sean de tipo string.*\n",
        "*Convierte la columna 'Property Type' a tipo string: Asegura que todos los valores en la columna 'Property Type' sean de tipo string.*\n",
        "\n",
        "- *Convierte la columna 'Residential Type' a tipo string: Asegura que todos los valores en la columna 'Residential Type' sean de tipo string.*\n",
        "\n",
        "*Finalmente, la función transform_formats se aplica al DataFrame df y se verifican los tipos de datos de las columnas después de las transformaciones.*\n",
        "\n",
        "**4. Datos duplicados:**\n",
        "\n",
        "  *En esta sección, concluimos que el 2% de los valores del conjunto de datos son duplicados y los eliminamos, ya que mantener estos datos no aporta nada y su eliminación no perjudica la base de datos.*\n",
        "\n",
        "\n",
        "*Además, observamos que la columna **Sales Ratio** es un campo calculado que se obtiene mediante el siguiente cálculo:*\n",
        "**Assessed Value** / **Sale Amount** == **Sales Ratio**\n",
        "\n",
        "*Como esta informacion se puede obtener a traves de una query, es redundante guardar esta columna en la base de datos*\n"
      ],
      "metadata": {
        "id": "j29T84Hh1ZVV"
      }
    },
    {
      "cell_type": "markdown",
      "source": [
        "## Carga a Base de Datos sin normalizar"
      ],
      "metadata": {
        "id": "PtkgNL911cMq"
      }
    },
    {
      "cell_type": "code",
      "source": [
        "conn = sqlite3.connect(root_path + 'Dataset/real_estate.sqlite3')\n",
        "cursor = conn.cursor()\n",
        "\n",
        "cursor.execute(\"\"\"\n",
        "    CREATE TABLE IF NOT EXISTS real_estate (\n",
        "        date_recorded TEXT,\n",
        "        list_year INTEGER,\n",
        "        town TEXT,\n",
        "        address TEXT,\n",
        "        assessed_value REAL,\n",
        "        sale_amount REAL,\n",
        "        residential_type TEXT\n",
        "    )\n",
        "\"\"\")\n",
        "conn.commit()\n",
        "\n",
        "df.to_sql('real_estate', conn, if_exists='replace', index=False)\n",
        "conn.commit()\n",
        "\n",
        "conn.close()\n"
      ],
      "metadata": {
        "id": "unedmn2CqChQ"
      },
      "execution_count": 238,
      "outputs": []
    },
    {
      "cell_type": "markdown",
      "source": [
        "### Verificacion de Base de Datos\n",
        "\n",
        "Verificar que los datos han sido insertados correctamente y que la base de datos está en\n",
        "un estado consistente."
      ],
      "metadata": {
        "id": "v-_6tM7k4smn"
      }
    },
    {
      "cell_type": "markdown",
      "source": [
        "## Normalizacion de base de datos (Boyce-Codd o NF3.5)"
      ],
      "metadata": {
        "id": "Jc-IohUhXT3k"
      }
    },
    {
      "cell_type": "markdown",
      "source": [
        "### Verificacion de Base de Datos\n",
        "\n",
        "Verificar que los datos han sido insertados correctamente y que la base de datos está en\n",
        "un estado consistente."
      ],
      "metadata": {
        "id": "rtAmzSdcXiUT"
      }
    }
  ]
}